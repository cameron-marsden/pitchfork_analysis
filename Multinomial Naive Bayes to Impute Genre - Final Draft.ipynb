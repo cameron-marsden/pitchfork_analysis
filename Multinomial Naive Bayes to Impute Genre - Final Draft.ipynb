{
 "cells": [
  {
   "cell_type": "markdown",
   "metadata": {},
   "source": [
    "## Imputing Missing Genres with NLP\n",
    "\n",
    "I've come across comments on Reddit, Facebook, etc. from veteran Pitchfork readers that claim the site has diluted its indie focus with heavier promotion of pop and rap artists over the past decade. Has there been a shift in genre coverage? If so, has the shift affected Pitchfork's overall sentiment for any particular genres? \n",
    "\n",
    "Unfortunately, over 11% of reviews I scraped didn't contain a genre HTML tag; however, there are likely strong associations between certain words/phrases and their corresponding genres within the 89% of reviews without missing values. I've had success with classifying Rotten Tomatoes reviews as Rotten vs. Fresh using Naive Bayes, so I decided to tackle genre classification in a similar fashion."
   ]
  },
  {
   "cell_type": "markdown",
   "metadata": {},
   "source": [
    "### Step 1: Import necessary libraries for NLP, Naive Bayes, and data manipulation"
   ]
  },
  {
   "cell_type": "code",
   "execution_count": 1,
   "metadata": {},
   "outputs": [],
   "source": [
    "#Import pandas and numpy for data manipulation\n",
    "import pandas as pd\n",
    "import numpy as np\n",
    "\n",
    "#Import text processing libraries\n",
    "from nltk.tokenize import word_tokenize\n",
    "from string import punctuation\n",
    "from nltk.corpus import stopwords\n",
    "import nltk\n",
    "import contractions\n",
    "#Run the next line to install nltk corpuses the first time.\n",
    "#nltk.download()\n",
    "\n",
    "#Import sklearn libraries for modeling\n",
    "from sklearn.model_selection import cross_val_score\n",
    "from sklearn.preprocessing import LabelEncoder\n",
    "from sklearn.feature_extraction.text import CountVectorizer\n",
    "from sklearn.naive_bayes import MultinomialNB\n",
    "from sklearn.model_selection import train_test_split\n",
    "\n",
    "#Import pyplot for visuals\n",
    "import matplotlib.pyplot as plt"
   ]
  },
  {
   "cell_type": "markdown",
   "metadata": {},
   "source": [
    "### Step 2: Visualize Review Counts by Genre"
   ]
  },
  {
   "cell_type": "code",
   "execution_count": 2,
   "metadata": {},
   "outputs": [],
   "source": [
    "#Import Data\n",
    "full_df = pd.read_pickle('p4k_clenased.pkl')"
   ]
  },
  {
   "cell_type": "code",
   "execution_count": 3,
   "metadata": {},
   "outputs": [
    {
     "data": {
      "image/png": "[encoded data removed]",
      "text/plain": [
       "<matplotlib.figure.Figure at 0x1552a668>"
      ]
     },
     "metadata": {},
     "output_type": "display_data"
    }
   ],
   "source": [
    "#Visualize Genre counts\n",
    "counts_by_genre = full_df.groupby('Genre').size().reset_index(name='Counts')\n",
    "counts_by_genre['Color'] = np.where(counts_by_genre['Genre']=='Not Available', '#7c7cfe', '#D5D5D5')\n",
    "counts_by_genre.sort_values('Counts', inplace=True)\n",
    "\n",
    "genres = counts_by_genre['Genre']\n",
    "counts = counts_by_genre['Counts']\n",
    "colors = counts_by_genre['Color']\n",
    "y_pos = np.arange(len(genres))\n",
    "\n",
    "#Create bar chart for genres\n",
    "plt.figure(figsize=(10,6))\n",
    "plt.barh(y_pos, counts, color=colors)\n",
    "plt.yticks(y_pos, genres)\n",
    "plt.xlabel('Number of Reviews')\n",
    "plt.title('Reviews by Genre')\n",
    "plt.show()"
   ]
  },
  {
   "cell_type": "markdown",
   "metadata": {},
   "source": [
    "Rock and Electronic were the most common review genres, followed by reviews with no available genre HTML tag. Accurately imputing these missing values saves a sizeable chunk of data that I would otherwise discard."
   ]
  },
  {
   "cell_type": "markdown",
   "metadata": {},
   "source": [
    "### Step 3: Prepare model data\n",
    "\n",
    "In order to assess model performance, I needed to split the data into three chunks: 1) A training set with availble genres; 2) A testing set with available genres to compare; 3) The genreless data to impute."
   ]
  },
  {
   "cell_type": "code",
   "execution_count": 4,
   "metadata": {},
   "outputs": [],
   "source": [
    "#Get reviews with known genre\n",
    "has_genre_ind = full_df['Genre'] != 'Not Available'\n",
    "no_genre_ind = full_df['Genre'] == 'Not Available'\n",
    "has_genre_df = full_df[has_genre_ind]\n",
    "genreless_df = full_df[no_genre_ind]"
   ]
  },
  {
   "cell_type": "markdown",
   "metadata": {},
   "source": [
    "Next, I transformed all reviews into numeric format using a CountVectorizer with some custom tuning for punctuation and contractions. I also transformed genre into encoded numeric values allowed by the MultinomialNB function."
   ]
  },
  {
   "cell_type": "code",
   "execution_count": 5,
   "metadata": {},
   "outputs": [],
   "source": [
    "#Replace contractions in the reviews\n",
    "def replace_contractions(text):\n",
    "    \"\"\"Replace contractions in string of text\"\"\"\n",
    "    return contractions.fix(text)\n",
    "\n",
    "#Create vecotrized array for all reviews\n",
    "customStopWords=set(stopwords.words('english')+list(punctuation))\n",
    "vectorizer = CountVectorizer(min_df=1e-4, stop_words=customStopWords)\n",
    "x_counts = vectorizer.fit_transform(full_df['Review'].apply(replace_contractions))\n",
    "\n",
    "#Set as a dense array\n",
    "x_counts_dense = x_counts.todense()\n",
    "\n",
    "#Separate array by whether Genre is known or not\n",
    "x_counts_not_missing_genre = x_counts_dense[has_genre_ind]\n",
    "x_counts_missing_genre = x_counts_dense[no_genre_ind]\n",
    "\n",
    "#Get numeric representation of Genre\n",
    "labelencoder = LabelEncoder()\n",
    "y_not_missing_genre = labelencoder.fit_transform(has_genre_df['Genre'])"
   ]
  },
  {
   "cell_type": "markdown",
   "metadata": {},
   "source": [
    "After transforming the data, I randomly selected 66% of reviews with genres as my training set and optimized the Laplace smoothing parameter $\\alpha$. I decided to use macro F1 scores to measure model performance given the multi-class nature of the target variable."
   ]
  },
  {
   "cell_type": "code",
   "execution_count": 6,
   "metadata": {},
   "outputs": [
    {
     "name": "stdout",
     "output_type": "stream",
     "text": [
      "Maximum f1_cross of 0.6757 achieved when alpha = 0.10\n"
     ]
    }
   ],
   "source": [
    "#Split data into training and test\n",
    "X_train, X_val, Y_train, Y_val = train_test_split(x_counts_not_missing_genre, y_not_missing_genre, test_size=0.34, random_state=815)\n",
    "\n",
    "#the grid of parameters to search over\n",
    "alphas = [0.0, 0.1, 0.5, 1.0, 2.0, 5.0, 10.0]\n",
    "\n",
    "#Find the best value for alpha and min_df, and the best classifier\n",
    "best_alpha = None\n",
    "max_f1_cross = -np.inf\n",
    "\n",
    "for alpha in alphas:     \n",
    "    #Add alpha argument to clf\n",
    "    clf = MultinomialNB(alpha = alpha)\n",
    "    \n",
    "    #Find current iteration's mean cross-validated f1_macro score\n",
    "    f1_cross =  cross_val_score(clf, X_train, Y_train, scoring='f1_macro', cv=5).mean()\n",
    "    \n",
    "    #Determine if the new f1_cross is the best\n",
    "    if f1_cross > max_f1_cross:\n",
    "        #If we have the best, update the values of best_alpha, best_min_df, and max_f1_cross to current iteration\n",
    "        best_alpha = alpha\n",
    "        max_f1_cross = f1_cross\n",
    "            \n",
    "#After running the loop for each combination of given alphas and min_dfs, report the optimized results\n",
    "print(\"Maximum f1_cross of %.4f achieved when alpha = %.2f\" % (max_f1_cross,best_alpha))"
   ]
  },
  {
   "cell_type": "markdown",
   "metadata": {},
   "source": [
    "### Step 4: Run Multinomial Naive Bayes model with optimized parameters"
   ]
  },
  {
   "cell_type": "code",
   "execution_count": 7,
   "metadata": {},
   "outputs": [],
   "source": [
    "#Use Multinomial classifier\n",
    "clf = MultinomialNB(alpha = best_alpha)\n",
    "#Fit the function to given training values of x and y\n",
    "my_model = clf.fit(X_train, Y_train)"
   ]
  },
  {
   "cell_type": "code",
   "execution_count": 8,
   "metadata": {},
   "outputs": [
    {
     "name": "stdout",
     "output_type": "stream",
     "text": [
      "Training set prediction accuracy: 0.9445\n",
      "Testing set prediction accuracy: 0.7734\n"
     ]
    }
   ],
   "source": [
    "#Find accuracy for training and testing data using the fitted model\n",
    "#Use scikit's score function (mean accuracy on given data/labels)\n",
    "training_accuracy = my_model.score(X_train, Y_train)\n",
    "testing_accuracy = my_model.score(X_val, Y_val)\n",
    "\n",
    "print(\"Training set prediction accuracy: %.4f\" % (training_accuracy))\n",
    "print(\"Testing set prediction accuracy: %.4f\" % (testing_accuracy))"
   ]
  },
  {
   "cell_type": "markdown",
   "metadata": {},
   "source": [
    "The testing set's dip in accuracy suggests an overfit model. However, music genres bleed into one another, so I considered 77% accuracy to be absolute lowest estimate of true genre accuracy. The confusion matrix below shows that most 'incorrect' decisions predicted Rock—perhaps the most broad among the nine genres Pitchfork defines."
   ]
  },
  {
   "cell_type": "code",
   "execution_count": 9,
   "metadata": {},
   "outputs": [],
   "source": [
    "#Get a list of the test set's predictions and actual values\n",
    "test_predictions = list(labelencoder.inverse_transform(clf.predict(X_val)))\n",
    "test_actuals = list(labelencoder.inverse_transform(Y_val))\n",
    "\n",
    "#Show a table of the predicted and actual genres"
   ]
  },
  {
   "cell_type": "markdown",
   "metadata": {},
   "source": [
    "### Step 5: Impute missing genres using an updated model with all available data\n",
    "\n",
    "I felt satisfied with the test results, so I combined all the data with defined genres to update my model. Finally, I used this model to predict genres for the chunk of genreless data."
   ]
  },
  {
   "cell_type": "code",
   "execution_count": 10,
   "metadata": {},
   "outputs": [],
   "source": [
    "#Build one with train and validation combined and predict missing genres\n",
    "my_combined_model = clf.fit(x_counts_not_missing_genre, y_not_missing_genre)\n",
    "predicted_genre = my_combined_model.predict(x_counts_missing_genre)\n",
    "\n",
    "#Get predictions as actual labels\n",
    "decoded_predicted_genre = list(labelencoder.inverse_transform(predicted_genre))\n",
    "\n",
    "#Reassign Genre\n",
    "genreless_df['Genre'] = decoded_predicted_genre\n",
    "\n",
    "#Create new dataframe with genre filled out for everyone\n",
    "impute_genre_df = has_genre_df.append(genreless_df)\n",
    "\n",
    "#Write dataset to pickle\n",
    "impute_genre_df.to_pickle(\"p4k_cleansed_imputed_genre.pkl\")"
   ]
  }
 ],
 "metadata": {
  "kernelspec": {
   "display_name": "Python 3",
   "language": "python",
   "name": "python3"
  },
  "language_info": {
   "codemirror_mode": {
    "name": "ipython",
    "version": 3
   },
   "file_extension": ".py",
   "mimetype": "text/x-python",
   "name": "python",
   "nbconvert_exporter": "python",
   "pygments_lexer": "ipython3",
   "version": "3.6.4"
  }
 },
 "nbformat": 4,
 "nbformat_minor": 2
}
