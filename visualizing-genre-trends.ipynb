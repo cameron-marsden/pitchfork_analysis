{
 "cells": [
  {
   "cell_type": "markdown",
   "metadata": {},
   "source": [
    "## Visualizing Genre Trends\n",
    "\n",
    "After imputing genre using Multinomial Naive Bayes, I had almost all the information I needed to visualize Pitchfork's genre trends. I love end-of-year album rankings, and my dataset didn't have any of that information. So I figured I should get that info, and it turns out it that albumoftheyear.org—an aggregator of most music publications—had everything in an easily scrapable format. "
   ]
  },
  {
   "cell_type": "markdown",
   "metadata": {},
   "source": [
    "### Step 1: Find list information from Album of the Year\n",
    "\n",
    "The steps for scraping albumoftheyear.org for Pitchfork's lists is very similar to my initial web scrape, so I won't go into much detail here."
   ]
  },
  {
   "cell_type": "code",
   "execution_count": 1,
   "metadata": {},
   "outputs": [
    {
     "data": {
      "text/html": [
       "<style>.container { width:100% !important; }</style>"
      ],
      "text/plain": [
       "<IPython.core.display.HTML object>"
      ]
     },
     "metadata": {},
     "output_type": "display_data"
    }
   ],
   "source": [
    "#Import necessary modules\n",
    "import urllib.request as ur #Handles URLs\n",
    "from bs4 import BeautifulSoup #Parses webpage content\n",
    "import requests\n",
    "from lxml import html\n",
    "import numpy as np\n",
    "import pandas as pd\n",
    "import time\n",
    "\n",
    "from IPython.core.display import display, HTML\n",
    "display(HTML(\"<style>.container { width:100% !important; }</style>\"))"
   ]
  },
  {
   "cell_type": "code",
   "execution_count": 2,
   "metadata": {},
   "outputs": [],
   "source": [
    "#Get the base URL used for Pitchfork Lists\n",
    "base_url = \"https://www.albumoftheyear.org/publication/1-pitchfork/lists/\"\n",
    "hdr = {'User-Agent': 'Mozilla/5.0'}\n",
    "full_url_req = ur.Request(base_url, headers=hdr)\n",
    "full_url_response = ur.urlopen(full_url_req)\n",
    "soup = BeautifulSoup(full_url_response)\n",
    "sections = soup.find(\"div\", class_=\"section\")\n",
    "a_tags = sections.find_all(\"a\")\n",
    "list_urls = []\n",
    "for a_tag in a_tags:\n",
    "    #Grab the link in the \"href\" of the a tag\n",
    "    current_href=a_tag.get('href')\n",
    "    list_urls.append('https://www.albumoftheyear.org' + current_href)\n",
    "    \n",
    "#Remove duplicate URLs\n",
    "list_urls = list(set(list_urls))"
   ]
  },
  {
   "cell_type": "code",
   "execution_count": 3,
   "metadata": {},
   "outputs": [],
   "source": [
    "#Define function to clean any html tags\n",
    "import re\n",
    "\n",
    "def cleanhtml(raw_html):\n",
    "  cleanr = re.compile('<.*?>')\n",
    "  cleantext = re.sub(cleanr, '', raw_html)\n",
    "  return cleantext"
   ]
  },
  {
   "cell_type": "markdown",
   "metadata": {},
   "source": [
    "Quick note about the following code: Album of the Year uses one, hyphen-delimited HTML tag for each Album/Artist combination. Splitting each string by the delimiter worked for most cases, but two album titles also contained hyphens. I worked around this issue with some if-else logic which I then printed to double-check everything looked alright."
   ]
  },
  {
   "cell_type": "code",
   "execution_count": 4,
   "metadata": {},
   "outputs": [
    {
     "name": "stderr",
     "output_type": "stream",
     "text": [
      "C:\\Users\\cmarsden\\AppData\\Local\\Continuum\\anaconda3\\lib\\site-packages\\bs4\\__init__.py:181: UserWarning: No parser was explicitly specified, so I'm using the best available HTML parser for this system (\"lxml\"). This usually isn't a problem, but if you run this code on another system, or in a different virtual environment, it may use a different parser and behave differently.\n",
      "\n",
      "The code that caused this warning is on line 193 of the file C:\\Users\\cmarsden\\AppData\\Local\\Continuum\\anaconda3\\lib\\runpy.py. To get rid of this warning, change code that looks like this:\n",
      "\n",
      " BeautifulSoup(YOUR_MARKUP})\n",
      "\n",
      "to this:\n",
      "\n",
      " BeautifulSoup(YOUR_MARKUP, \"lxml\")\n",
      "\n",
      "  markup_type=markup_type))\n"
     ]
    },
    {
     "name": "stdout",
     "output_type": "stream",
     "text": [
      "More dashes for ['Múm', 'Yesterday Was Dramatic', 'Today Is OK']\n",
      "More dashes for ['A.A.L. (Against All Logic)', '2012', '2017']\n"
     ]
    }
   ],
   "source": [
    "#Initiate lists for the outcome variables we want\n",
    "rank = []\n",
    "title = []\n",
    "artist = []\n",
    "list_year = []\n",
    "review_url = []\n",
    "\n",
    "#Iterate through each year-end list and append pertinent information to list variables\n",
    "for current_list_url in list_urls:\n",
    "    #Get year from the end of each URL\n",
    "    current_list_year = current_list_url[-5:-1]\n",
    "    list_url = current_list_url\n",
    "    list_url_req = ur.Request(list_url, headers=hdr)\n",
    "    list_url_response = ur.urlopen(list_url_req)\n",
    "    soup = BeautifulSoup(list_url_response)\n",
    "    row_items = soup.find_all(\"div\", class_=\"albumListRow\")\n",
    "    list_items = soup.find_all(\"h2\", class_=\"albumListTitle\")\n",
    "    blurbs = soup.find_all(\"div\", class_=\"albumListBlurbLink\")\n",
    "    for item in list_items:\n",
    "        rank_html = item.find(\"span\", class_=\"albumListRank\")\n",
    "        artist_title_html = item.find(\"a\")\n",
    "        artist_title = cleanhtml(str(artist_title_html)).split(' - ')\n",
    "        #Two albums have dashes in them, so can concatenate the 2nd and 3rd strings\n",
    "        if len(artist_title) > 2:\n",
    "            print(\"More dashes for %s\" %artist_title)\n",
    "            title.append(artist_title[1] + \" - \" + artist_title[2])\n",
    "        else:\n",
    "            title.append(artist_title[1])\n",
    "        artist.append(artist_title[0])\n",
    "        rank.append(re.sub('. ', '',cleanhtml(str(rank_html))))\n",
    "        list_year.append(current_list_year)\n",
    "    #Get the URL for matching with the review data\n",
    "    for row in row_items:\n",
    "        blurb = row.find(\"div\", class_=\"albumListBlurbLink\")\n",
    "        try:\n",
    "            url = blurb.find(\"a\").get(\"href\").replace('www.','')\n",
    "        except:\n",
    "            url = \"None\"\n",
    "        review_url.append(url)"
   ]
  },
  {
   "cell_type": "code",
   "execution_count": 5,
   "metadata": {},
   "outputs": [],
   "source": [
    "#Create dataframe of artist, album title, rank, and year\n",
    "lists_df = pd.DataFrame({'Artist': artist,\n",
    "                              'Album': title,\n",
    "                              'List_Rank': list(map(int, rank)),\n",
    "                              'List_Year': list_year,\n",
    "                              'URL': review_url})\n",
    "\n",
    "#Sort data by rank and list_year, then write to pickle\n",
    "lists_df = lists_df.sort_values(by=['List_Year','List_Rank'], ascending=False)"
   ]
  },
  {
   "cell_type": "markdown",
   "metadata": {},
   "source": [
    "### Step 2: Join Album of the Year data to review data\n",
    "\n",
    "Next, I joined the list data to my review data (with imputed genres) using stripped-down versions of the URL from each dataframe."
   ]
  },
  {
   "cell_type": "code",
   "execution_count": 6,
   "metadata": {},
   "outputs": [],
   "source": [
    "#Read review_df from pickle\n",
    "review_df = pd.read_pickle('p4k_cleansed_imputed_genre.pkl')\n",
    "\n",
    "#Create uniform URLs\n",
    "import re\n",
    "def replaceEndSlash(url):\n",
    "    return(re.sub(r\"/$\", \"\", url))\n",
    "\n",
    "review_df['URL'] = review_df['URL'].str.replace('https://', '')\n",
    "review_df['URL'] = review_df['URL'].str.replace('http://', '')\n",
    "review_df['URL'] = review_df['URL'].str.replace('www.', '')\n",
    "\n",
    "lists_df['URL'] = lists_df['URL'].str.replace('https://', '')\n",
    "lists_df['URL'] = lists_df['URL'].str.replace('http://', '')\n",
    "lists_df['URL'] = lists_df['URL'].str.replace('www.', '')\n",
    "\n",
    "review_df['URL'] = review_df['URL'].apply(replaceEndSlash)\n",
    "lists_df['URL'] = lists_df['URL'].apply(replaceEndSlash)\n",
    "\n",
    "lists_df = lists_df.drop(columns=['Artist','Album'])\n",
    "\n",
    "#Join lists_df to review_df, removing duplicates\n",
    "full_df = pd.merge(review_df, lists_df,  how='left', left_on='URL', right_on = 'URL').drop_duplicates()"
   ]
  },
  {
   "cell_type": "markdown",
   "metadata": {},
   "source": [
    "### Step 3: Transform data from wide to long format for quick calculations\n",
    "\n",
    "After some miscellaneous data cleansing, I uploaded a slim version of the data containing only structured data to Github. I then used that data to create an aggregated summary of the data in long format (which made it easier to work with Dash). I was primarily interested in viewing two measures by year:\n",
    "\n",
    "* Proportion of Best New Music albums that fall into each genre\n",
    "* Album of the Year points\n",
    "\n",
    "Album of the Year uses the following breakdown:\n",
    "\n",
    "*1st Place*: 10 points  \n",
    "*2nd Place*: 8 points  \n",
    "*3rd Place*: 6 points  \n",
    "*4-10 Place*: 5 points  \n",
    "*11-25 Place*: 3 points  \n",
    "*Other Place*: 1 point\n",
    "\n",
    "I filtered out data before 2003—the year pitchfork introduced the Best New Music label."
   ]
  },
  {
   "cell_type": "code",
   "execution_count": 7,
   "metadata": {},
   "outputs": [],
   "source": [
    "#Read Data\n",
    "full_df = pd.read_csv('https://raw.githubusercontent.com/cameron-marsden/pitchfork_analysis/master/p4k_slim_imputed_genre.csv')\n",
    "\n",
    "#Get Information about each year's BNM makeup\n",
    "\n",
    "#Get a binary variable for BNM\n",
    "full_df['BNM_Indicator'] = [1 if x == 'Best new music' else 0 for x in full_df['BNM']]\n",
    "\n",
    "#Ensure List_Rank and year are numeric\n",
    "full_df['List_Rank'] = pd.to_numeric(full_df['List_Rank'], errors='coerce').fillna(0).astype(np.int64)\n",
    "full_df['year'] = pd.to_numeric(full_df['List_Year'], errors='coerce').fillna(0).astype(np.int64)\n",
    "\n",
    "#Get an aggregated data set for counts/proportions of new albums/BNM and another for list information\n",
    "#Aggregate data by year and genre, generating a count of albums and count of BNM\n",
    "albums_df = pd.DataFrame(full_df.groupby(['Review_Year', 'Genre']).agg({'New_Album': 'sum', 'BNM_Indicator': 'sum'})).reset_index()\n",
    "albums_df.columns = ['year', 'genre', 'genre_n_albums', 'genre_bnm']\n",
    "\n",
    "#Aggregate by just Year to get total number of BNM\n",
    "total_bnm_year_df = pd.DataFrame(full_df.groupby(['Review_Year']).agg({'BNM_Indicator': 'sum'})).reset_index()\n",
    "total_bnm_year_df.columns = ['year', 'total_bnm']\n",
    "\n",
    "#Join year aggregated data to year+genre aggregated data\n",
    "albums_df = albums_df.merge(total_bnm_year_df, left_on=['year'], right_on=['year'], how='left')\n",
    "\n",
    "#Assign variable indicating the proportion of ALL albums that are given BNM by genre and year.\n",
    "#Consider this variable as the conditional probability that an album is BNM given its genre and year\n",
    "#i.e., Pr(BNM=1 | Genre, Year)\n",
    "albums_df['prob_bnm_given_genre'] = albums_df['genre_bnm']/albums_df['genre_n_albums']\n",
    "\n",
    "#Assign variable indicating the proportion of BNM albums that fall within each genre by year\n",
    "#Consider this variable as the conditional probability that an album is a certain genre given that it was BNM\n",
    "#i.e., Pr(Genre=X | BNM=1, Year)\n",
    "albums_df['prob_genre_given_bnm'] = albums_df['genre_bnm']/albums_df['total_bnm']\n",
    "\n",
    "#Filter albums_df to 2003-2018. (BNM started in 2003)\n",
    "albums_df = albums_df[(albums_df['year'] >= 2003) & (albums_df['year'] < 2019)].reset_index(drop=True)"
   ]
  },
  {
   "cell_type": "code",
   "execution_count": 8,
   "metadata": {},
   "outputs": [],
   "source": [
    "#Get each year's list information\n",
    "list_df = full_df[(full_df['List_Rank'] > 0)]\n",
    "\n",
    "#Remove duplicate year+rank (i.e., albums from the same artist considered as one spot)\n",
    "list_df = list_df.drop_duplicates(subset=['year', 'List_Rank'], keep='first', inplace=False)\n",
    "\n",
    "#Assign points according to albumoftheyear.org scoring system\n",
    "def assignPoints(row):\n",
    "    if row['List_Rank']==1:\n",
    "        return 10\n",
    "    elif row['List_Rank']==2:\n",
    "        return 8\n",
    "    elif row['List_Rank']==3:\n",
    "        return 6\n",
    "    elif row['List_Rank'] < 11:\n",
    "        return 5\n",
    "    elif row['List_Rank'] < 26:\n",
    "        return 3\n",
    "    elif row['List_Rank'] <= 50:\n",
    "        return 1    \n",
    "    else:\n",
    "        return np.nan\n",
    "    \n",
    "list_df['List_Points'] = list_df.apply(assignPoints, axis=1)\n",
    "\n",
    "#Aggregate data by genre and list year\n",
    "list_df = pd.DataFrame(list_df.groupby(['year', 'Genre']).agg({'List_Points': 'sum'})).reset_index()\n",
    "list_df.columns = ['year', 'genre', 'points']\n",
    "\n",
    "#Filter lists_df to 2003-2018 to match albums_df\n",
    "list_df = list_df[(list_df['year'] >= 2003) & (list_df['year'] < 2019)].reset_index(drop=True)"
   ]
  },
  {
   "cell_type": "code",
   "execution_count": 9,
   "metadata": {},
   "outputs": [],
   "source": [
    "#Join the two aggregated dataframes together\n",
    "agg_df = albums_df.merge(list_df, left_on=['year', 'genre'], right_on=['year', 'genre'], how='outer')\n",
    "agg_df['points'] = agg_df['points'].fillna(0)\n",
    "agg_df.columns = ['Year', 'Genre', 'New Album Count', 'Best New Music Count by Genre and Year',\n",
    "                  'Best New Music Count by Year', 'Proportion BNM Given Genre',\n",
    "                  'Proportion Genre Given BNM', 'Sum of AOTY Points']\n",
    "agg_df = agg_df.reset_index()"
   ]
  },
  {
   "cell_type": "code",
   "execution_count": 10,
   "metadata": {},
   "outputs": [],
   "source": [
    "#Transform into long format as final dataset\n",
    "p4k_summary_long_format = pd.melt(agg_df, id_vars=['Year', 'Genre'], value_vars=['New Album Count', 'Best New Music Count by Genre and Year',\n",
    "                                                                                 'Best New Music Count by Year', 'Proportion BNM Given Genre',\n",
    "                                                                                 'Proportion Genre Given BNM', 'Sum of AOTY Points'])\n",
    "p4k_summary_long_format.columns = ['Year', 'Genre', 'Indicator Name', 'Value']"
   ]
  },
  {
   "cell_type": "markdown",
   "metadata": {},
   "source": [
    "### Step 4: Visualize results using Dash\n",
    "\n",
    "<a href=\"https://skewednotes.pythonanywhere.com\">Click to View Visual</a>"
   ]
  },
  {
   "cell_type": "markdown",
   "metadata": {},
   "source": [
    "This Dash visual shows Pitchfork's distribution of Best New Music labels and aggregated year-end rankings (scored using Album of the Year's rubric) broken down by genre. Trends for niche genres like \"Global\" and \"Jazz\" yield little information due to small sample sizes. On the other hand, more substantive genres like Pop/R&B and Experimental show shifting sentiments over the past 18 years:\n",
    "\n",
    "* Experimental music has suffered declines in review accolades and end-year lists since Pitchfork first introduced their 'Best New Music' stamp in 2003. During that year, experimental albums made up 23% of all 'Best New Music' titles compared to 7% in 2018.\n",
    "\n",
    "* Pitchfork went through a \"Poptimist\" renaissance in 2010—jumping from essentially zero recognition in 2009 to comprising one-fifth of all best new albums in 2010. The genre has continued to succeed thorughout the past decade, peaking in 2016 when Pop/R&B albums dominated the year-end list with Solange, Frank Ocean, and Beyoncé taking the top three spots. \n",
    "\n",
    "* Rap had moderate success in the early-mid 2000's, but it's presence in postive reviews and year-end lists dwindled through the late 2000s. Similar to Pop/R&B, Pitchfork reviewed Rap albums much more positively during the past decade. (Kanye West's *My Beautiful Dark Twisted Fantasy* still remains as the decade's only new album to achieve a perfect 10/10 review.) Recently, Pitchfork placed 14 rap albums in their top 50 albums of 2018.\n",
    "\n",
    "So has Pitchfork shifted its focus to more mainstream genres during the past decade? Perhaps. The data I scraped and modeled certainly supports a shifting perspective. I personally believe that artists have produced more genre-bending albums recently. For example, St. Vincent and Deafheaven have landed on three of the decade's year-end lists. Pitchfork defines St. Vincent's albums as Rock and Deafheaven's as Metal. I would argue that St. Vincent's 2011 album *Strange Mercy* is as much experimental as it is rock. Annie Clark herself refers to her most recent album, *MASSEDUCTION*, as a confessional pop record. It's just as difficult to classify Deafheaven. Are they a black metal band? According to many black metal fans on the black metal subreddit, No. Wikipedia suggests that the band's genre is \"blackgaze\" (a portmanteau of \"black metal\" and \"shoegaze\"). I would argue that their sound is more akin to post-rock than anything else. \n",
    "\n",
    "It was fun to classify and analyze the nine genres Pitchfork uses to tag album reviews, and it's easy to communicate your music preferences to others using broad terms like \"Country\" or \"Rap.\" On the other hand, these rigid genres often turn people away from music they might otherwise enjoy. I don't think that Pitchfork's views in 2010 changed as drastically as the visualization above suggests. Instead, I think our definition of genre rapidly became outdated in a world that is always sharing ideas online. Perhaps when I revisit this dataset, I'll look into unsupervised methods to create my own definition of genre—one that generates categories like \"blackgaze\" to better represent nuanced albums. "
   ]
  }
 ],
 "metadata": {
  "kernelspec": {
   "display_name": "Python 3",
   "language": "python",
   "name": "python3"
  },
  "language_info": {
   "codemirror_mode": {
    "name": "ipython",
    "version": 3
   },
   "file_extension": ".py",
   "mimetype": "text/x-python",
   "name": "python",
   "nbconvert_exporter": "python",
   "pygments_lexer": "ipython3",
   "version": "3.6.4"
  }
 },
 "nbformat": 4,
 "nbformat_minor": 2
}
